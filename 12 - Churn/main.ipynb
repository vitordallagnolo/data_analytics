{
 "cells": [
  {
   "cell_type": "code",
   "execution_count": null,
   "metadata": {},
   "outputs": [],
   "source": [
    "import pandas as pd"
   ]
  },
  {
   "cell_type": "code",
   "execution_count": null,
   "metadata": {},
   "outputs": [],
   "source": [
    "base = pd.read_csv(\"your base\")\n",
    "\n",
    "date = pd.read_csv(\"Date.csv\")"
   ]
  },
  {
   "cell_type": "code",
   "execution_count": null,
   "metadata": {},
   "outputs": [],
   "source": [
    "base['Data Assinatura'] = pd.to_datetime(base['Data Assinatura'], dayfirst=True)\n",
    "base['Data Cancelamento'] = pd.to_datetime(base['Data Cancelamento'], dayfirst=True)\n",
    "date['Date'] = pd.to_datetime(date['Date'], format='%d/%m/%Y', dayfirst=True)"
   ]
  },
  {
   "cell_type": "code",
   "execution_count": null,
   "metadata": {},
   "outputs": [],
   "source": [
    "lista = []\n",
    "lista = pd.DataFrame(columns=[\"Data\", \"Clientes Ativos\"])"
   ]
  },
  {
   "cell_type": "code",
   "execution_count": null,
   "metadata": {},
   "outputs": [],
   "source": [
    "for time in date[\"Date\"]:\n",
    "  c = 0\n",
    "  for assinatura, cancelamento in zip(base[\"Data Assinatura\"], base[\"Data Cancelamento\"]):\n",
    "    c = 0\n",
    "    if time >= assinatura and time <= cancelamento:\n",
    "        c += 1\n",
    "        lista = lista.append({\"Data\": time, \"Clientes Ativos\": c}, ignore_index=True)\n",
    "\n",
    "    elif time >= assinatura and not time:\n",
    "        c += 1\n",
    "        lista = lista.append({\"Data\": time, \"Clientes Ativos\": c}, ignore_index=True)"
   ]
  },
  {
   "cell_type": "code",
   "execution_count": null,
   "metadata": {},
   "outputs": [],
   "source": [
    "lista = lista.groupby(['Data']).sum()\n",
    "lista"
   ]
  },
  {
   "cell_type": "code",
   "execution_count": null,
   "metadata": {},
   "outputs": [],
   "source": [
    "lista.to_csv('output.csv', encoding = 'utf-8-sig') "
   ]
  }
 ],
 "metadata": {
  "kernelspec": {
   "display_name": "data",
   "language": "python",
   "name": "python3"
  },
  "language_info": {
   "codemirror_mode": {
    "name": "ipython",
    "version": 3
   },
   "file_extension": ".py",
   "mimetype": "text/x-python",
   "name": "python",
   "nbconvert_exporter": "python",
   "pygments_lexer": "ipython3",
   "version": "3.11.1"
  },
  "orig_nbformat": 4,
  "vscode": {
   "interpreter": {
    "hash": "9f86619d460ad7665c7cccd79b829cd10ab3a7ac076b29c3033dcf0c192cea29"
   }
  }
 },
 "nbformat": 4,
 "nbformat_minor": 2
}
