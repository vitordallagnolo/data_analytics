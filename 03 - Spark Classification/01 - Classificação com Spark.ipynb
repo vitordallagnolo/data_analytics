{
 "cells": [
  {
   "cell_type": "markdown",
   "metadata": {},
   "source": [
    "# Importando bibliotecas"
   ]
  },
  {
   "cell_type": "code",
   "execution_count": 3,
   "metadata": {},
   "outputs": [],
   "source": [
    "from pyspark.sql import SparkSession"
   ]
  },
  {
   "cell_type": "markdown",
   "metadata": {},
   "source": [
    "# Criando sessão Spark"
   ]
  },
  {
   "cell_type": "code",
   "execution_count": 4,
   "metadata": {},
   "outputs": [],
   "source": [
    "spark = SparkSession.builder.master(\"local[*]\").appName(\"Classificação com Spark\").getOrCreate()"
   ]
  },
  {
   "cell_type": "code",
   "execution_count": 5,
   "metadata": {},
   "outputs": [
    {
     "data": {
      "text/html": [
       "\n",
       "            <div>\n",
       "                <p><b>SparkSession - in-memory</b></p>\n",
       "                \n",
       "        <div>\n",
       "            <p><b>SparkContext</b></p>\n",
       "\n",
       "            <p><a href=\"http://Dallagnolo:4040\">Spark UI</a></p>\n",
       "\n",
       "            <dl>\n",
       "              <dt>Version</dt>\n",
       "                <dd><code>v3.3.0</code></dd>\n",
       "              <dt>Master</dt>\n",
       "                <dd><code>local[*]</code></dd>\n",
       "              <dt>AppName</dt>\n",
       "                <dd><code>Classificação com Spark</code></dd>\n",
       "            </dl>\n",
       "        </div>\n",
       "        \n",
       "            </div>\n",
       "        "
      ],
      "text/plain": [
       "<pyspark.sql.session.SparkSession at 0x275924b3fd0>"
      ]
     },
     "execution_count": 5,
     "metadata": {},
     "output_type": "execute_result"
    }
   ],
   "source": [
    "spark"
   ]
  },
  {
   "cell_type": "markdown",
   "metadata": {},
   "source": [
    "# Carregando os dados"
   ]
  },
  {
   "cell_type": "code",
   "execution_count": 6,
   "metadata": {},
   "outputs": [],
   "source": [
    "dados = spark.read.csv(\"datasets/dados_clientes.csv\", sep=\",\", header=True, inferSchema=True)"
   ]
  },
  {
   "cell_type": "code",
   "execution_count": 7,
   "metadata": {},
   "outputs": [
    {
     "name": "stdout",
     "output_type": "stream",
     "text": [
      "+---+-----+----------+-------+-----------+---------------+------------+------------------------+-----------+------------------+------------------+------------------+------------------+------------------+------------------+------------+------------+----------------+-------------+\n",
      "| id|Churn|Mais65anos|Conjuge|Dependentes|MesesDeContrato|TelefoneFixo|MaisDeUmaLinhaTelefonica|   Internet|   SegurancaOnline|      BackupOnline| SeguroDispositivo|    SuporteTecnico|           TVaCabo|   StreamingFilmes|TipoContrato|ContaCorreio| MetodoPagamento|MesesCobrados|\n",
      "+---+-----+----------+-------+-----------+---------------+------------+------------------------+-----------+------------------+------------------+------------------+------------------+------------------+------------------+------------+------------+----------------+-------------+\n",
      "|  0|  Nao|         0|    Sim|        Nao|              1|         Nao|    SemServicoTelefonico|        DSL|               Nao|               Sim|               Nao|               Nao|               Nao|               Nao| Mensalmente|         Sim|BoletoEletronico|        29.85|\n",
      "|  1|  Nao|         0|    Nao|        Nao|             34|         Sim|                     Nao|        DSL|               Sim|               Nao|               Sim|               Nao|               Nao|               Nao|       UmAno|         Nao|          Boleto|        56.95|\n",
      "|  2|  Sim|         0|    Nao|        Nao|              2|         Sim|                     Nao|        DSL|               Sim|               Sim|               Nao|               Nao|               Nao|               Nao| Mensalmente|         Sim|          Boleto|        53.85|\n",
      "|  3|  Nao|         0|    Nao|        Nao|             45|         Nao|    SemServicoTelefonico|        DSL|               Sim|               Nao|               Sim|               Sim|               Nao|               Nao|       UmAno|         Nao|   DebitoEmConta|         42.3|\n",
      "|  4|  Sim|         0|    Nao|        Nao|              2|         Sim|                     Nao|FibraOptica|               Nao|               Nao|               Nao|               Nao|               Nao|               Nao| Mensalmente|         Sim|BoletoEletronico|         70.7|\n",
      "|  5|  Sim|         0|    Nao|        Nao|              8|         Sim|                     Sim|FibraOptica|               Nao|               Nao|               Sim|               Nao|               Sim|               Sim| Mensalmente|         Sim|BoletoEletronico|        99.65|\n",
      "|  6|  Nao|         0|    Nao|        Sim|             22|         Sim|                     Sim|FibraOptica|               Nao|               Sim|               Nao|               Nao|               Sim|               Nao| Mensalmente|         Sim|   CartaoCredito|         89.1|\n",
      "|  7|  Nao|         0|    Nao|        Nao|             10|         Nao|    SemServicoTelefonico|        DSL|               Sim|               Nao|               Nao|               Nao|               Nao|               Nao| Mensalmente|         Nao|          Boleto|        29.75|\n",
      "|  8|  Sim|         0|    Sim|        Nao|             28|         Sim|                     Sim|FibraOptica|               Nao|               Nao|               Sim|               Sim|               Sim|               Sim| Mensalmente|         Sim|BoletoEletronico|        104.8|\n",
      "|  9|  Nao|         0|    Nao|        Sim|             62|         Sim|                     Nao|        DSL|               Sim|               Sim|               Nao|               Nao|               Nao|               Nao|       UmAno|         Nao|   DebitoEmConta|        56.15|\n",
      "| 10|  Nao|         0|    Sim|        Sim|             13|         Sim|                     Nao|        DSL|               Sim|               Nao|               Nao|               Nao|               Nao|               Nao| Mensalmente|         Sim|          Boleto|        49.95|\n",
      "| 11|  Nao|         0|    Nao|        Nao|             16|         Sim|                     Nao|        Nao|SemServicoInternet|SemServicoInternet|SemServicoInternet|SemServicoInternet|SemServicoInternet|SemServicoInternet|    DoisAnos|         Nao|   CartaoCredito|        18.95|\n",
      "| 12|  Nao|         0|    Sim|        Nao|             58|         Sim|                     Sim|FibraOptica|               Nao|               Nao|               Sim|               Nao|               Sim|               Sim|       UmAno|         Nao|   CartaoCredito|       100.35|\n",
      "| 13|  Sim|         0|    Nao|        Nao|             49|         Sim|                     Sim|FibraOptica|               Nao|               Sim|               Sim|               Nao|               Sim|               Sim| Mensalmente|         Sim|   DebitoEmConta|        103.7|\n",
      "| 14|  Nao|         0|    Nao|        Nao|             25|         Sim|                     Nao|FibraOptica|               Sim|               Nao|               Sim|               Sim|               Sim|               Sim| Mensalmente|         Sim|BoletoEletronico|        105.5|\n",
      "| 15|  Nao|         0|    Sim|        Sim|             69|         Sim|                     Sim|FibraOptica|               Sim|               Sim|               Sim|               Sim|               Sim|               Sim|    DoisAnos|         Nao|   CartaoCredito|       113.25|\n",
      "| 16|  Nao|         0|    Nao|        Nao|             52|         Sim|                     Nao|        Nao|SemServicoInternet|SemServicoInternet|SemServicoInternet|SemServicoInternet|SemServicoInternet|SemServicoInternet|       UmAno|         Nao|          Boleto|        20.65|\n",
      "| 17|  Nao|         0|    Nao|        Sim|             71|         Sim|                     Sim|FibraOptica|               Sim|               Nao|               Sim|               Nao|               Sim|               Sim|    DoisAnos|         Nao|   DebitoEmConta|        106.7|\n",
      "| 18|  Sim|         0|    Sim|        Sim|             10|         Sim|                     Nao|        DSL|               Nao|               Nao|               Sim|               Sim|               Nao|               Nao| Mensalmente|         Nao|   CartaoCredito|         55.2|\n",
      "| 19|  Nao|         0|    Nao|        Nao|             21|         Sim|                     Nao|FibraOptica|               Nao|               Sim|               Sim|               Nao|               Nao|               Sim| Mensalmente|         Sim|BoletoEletronico|        90.05|\n",
      "+---+-----+----------+-------+-----------+---------------+------------+------------------------+-----------+------------------+------------------+------------------+------------------+------------------+------------------+------------+------------+----------------+-------------+\n",
      "only showing top 20 rows\n",
      "\n"
     ]
    }
   ],
   "source": [
    "dados.show()"
   ]
  },
  {
   "cell_type": "code",
   "execution_count": 8,
   "metadata": {},
   "outputs": [
    {
     "data": {
      "text/plain": [
       "10348"
      ]
     },
     "execution_count": 8,
     "metadata": {},
     "output_type": "execute_result"
    }
   ],
   "source": [
    "dados.count()"
   ]
  },
  {
   "cell_type": "code",
   "execution_count": 9,
   "metadata": {},
   "outputs": [
    {
     "name": "stdout",
     "output_type": "stream",
     "text": [
      "+-----+-----+\n",
      "|Churn|count|\n",
      "+-----+-----+\n",
      "|  Sim| 5174|\n",
      "|  Nao| 5174|\n",
      "+-----+-----+\n",
      "\n"
     ]
    }
   ],
   "source": [
    "dados.groupBy(\"Churn\").count().show()"
   ]
  },
  {
   "cell_type": "code",
   "execution_count": 10,
   "metadata": {},
   "outputs": [
    {
     "name": "stdout",
     "output_type": "stream",
     "text": [
      "root\n",
      " |-- id: integer (nullable = true)\n",
      " |-- Churn: string (nullable = true)\n",
      " |-- Mais65anos: integer (nullable = true)\n",
      " |-- Conjuge: string (nullable = true)\n",
      " |-- Dependentes: string (nullable = true)\n",
      " |-- MesesDeContrato: integer (nullable = true)\n",
      " |-- TelefoneFixo: string (nullable = true)\n",
      " |-- MaisDeUmaLinhaTelefonica: string (nullable = true)\n",
      " |-- Internet: string (nullable = true)\n",
      " |-- SegurancaOnline: string (nullable = true)\n",
      " |-- BackupOnline: string (nullable = true)\n",
      " |-- SeguroDispositivo: string (nullable = true)\n",
      " |-- SuporteTecnico: string (nullable = true)\n",
      " |-- TVaCabo: string (nullable = true)\n",
      " |-- StreamingFilmes: string (nullable = true)\n",
      " |-- TipoContrato: string (nullable = true)\n",
      " |-- ContaCorreio: string (nullable = true)\n",
      " |-- MetodoPagamento: string (nullable = true)\n",
      " |-- MesesCobrados: double (nullable = true)\n",
      "\n"
     ]
    }
   ],
   "source": [
    "dados.printSchema()"
   ]
  },
  {
   "cell_type": "markdown",
   "metadata": {},
   "source": [
    "# Tratando os dados"
   ]
  },
  {
   "cell_type": "code",
   "execution_count": 11,
   "metadata": {},
   "outputs": [],
   "source": [
    "colunasBinarias = [\n",
    "    \"Churn\",\n",
    "    \"Conjuge\",\n",
    "    \"Dependentes\",\n",
    "    \"TelefoneFixo\",\n",
    "    \"MaisDeUmaLinhaTelefonica\",\n",
    "    \"SegurancaOnline\",\n",
    "    \"BackupOnline\",\n",
    "    \"SeguroDispositivo\",\n",
    "    \"SuporteTecnico\",\n",
    "    \"TVaCabo\",\n",
    "    \"StreamingFilmes\",\n",
    "    \"ContaCorreio\"\n",
    "]"
   ]
  },
  {
   "cell_type": "code",
   "execution_count": 12,
   "metadata": {},
   "outputs": [],
   "source": [
    "from pyspark.sql import functions as f"
   ]
  },
  {
   "cell_type": "code",
   "execution_count": 13,
   "metadata": {},
   "outputs": [],
   "source": [
    "todasColunas = [f.when(f.col(col) == \"Sim\", 1).otherwise(0).alias(col) for col in colunasBinarias]"
   ]
  },
  {
   "cell_type": "code",
   "execution_count": 14,
   "metadata": {},
   "outputs": [
    {
     "data": {
      "text/plain": [
       "['id',\n",
       " 'Mais65anos',\n",
       " 'MesesDeContrato',\n",
       " 'Internet',\n",
       " 'TipoContrato',\n",
       " 'MetodoPagamento',\n",
       " 'MesesCobrados',\n",
       " Column<'CASE WHEN (Churn = Sim) THEN 1 ELSE 0 END AS Churn'>,\n",
       " Column<'CASE WHEN (Conjuge = Sim) THEN 1 ELSE 0 END AS Conjuge'>,\n",
       " Column<'CASE WHEN (Dependentes = Sim) THEN 1 ELSE 0 END AS Dependentes'>,\n",
       " Column<'CASE WHEN (TelefoneFixo = Sim) THEN 1 ELSE 0 END AS TelefoneFixo'>,\n",
       " Column<'CASE WHEN (MaisDeUmaLinhaTelefonica = Sim) THEN 1 ELSE 0 END AS MaisDeUmaLinhaTelefonica'>,\n",
       " Column<'CASE WHEN (SegurancaOnline = Sim) THEN 1 ELSE 0 END AS SegurancaOnline'>,\n",
       " Column<'CASE WHEN (BackupOnline = Sim) THEN 1 ELSE 0 END AS BackupOnline'>,\n",
       " Column<'CASE WHEN (SeguroDispositivo = Sim) THEN 1 ELSE 0 END AS SeguroDispositivo'>,\n",
       " Column<'CASE WHEN (SuporteTecnico = Sim) THEN 1 ELSE 0 END AS SuporteTecnico'>,\n",
       " Column<'CASE WHEN (TVaCabo = Sim) THEN 1 ELSE 0 END AS TVaCabo'>,\n",
       " Column<'CASE WHEN (StreamingFilmes = Sim) THEN 1 ELSE 0 END AS StreamingFilmes'>,\n",
       " Column<'CASE WHEN (ContaCorreio = Sim) THEN 1 ELSE 0 END AS ContaCorreio'>]"
      ]
     },
     "execution_count": 14,
     "metadata": {},
     "output_type": "execute_result"
    }
   ],
   "source": [
    "for coluna in reversed(dados.columns):\n",
    "    if coluna not in colunasBinarias:\n",
    "        todasColunas.insert(0, coluna)\n",
    "todasColunas"
   ]
  },
  {
   "cell_type": "code",
   "execution_count": 15,
   "metadata": {},
   "outputs": [
    {
     "name": "stdout",
     "output_type": "stream",
     "text": [
      "+---+----------+---------------+-----------+------------+----------------+-------------+-----+-------+-----------+------------+------------------------+---------------+------------+-----------------+--------------+-------+---------------+------------+\n",
      "| id|Mais65anos|MesesDeContrato|   Internet|TipoContrato| MetodoPagamento|MesesCobrados|Churn|Conjuge|Dependentes|TelefoneFixo|MaisDeUmaLinhaTelefonica|SegurancaOnline|BackupOnline|SeguroDispositivo|SuporteTecnico|TVaCabo|StreamingFilmes|ContaCorreio|\n",
      "+---+----------+---------------+-----------+------------+----------------+-------------+-----+-------+-----------+------------+------------------------+---------------+------------+-----------------+--------------+-------+---------------+------------+\n",
      "|  0|         0|              1|        DSL| Mensalmente|BoletoEletronico|        29.85|    0|      1|          0|           0|                       0|              0|           1|                0|             0|      0|              0|           1|\n",
      "|  1|         0|             34|        DSL|       UmAno|          Boleto|        56.95|    0|      0|          0|           1|                       0|              1|           0|                1|             0|      0|              0|           0|\n",
      "|  2|         0|              2|        DSL| Mensalmente|          Boleto|        53.85|    1|      0|          0|           1|                       0|              1|           1|                0|             0|      0|              0|           1|\n",
      "|  3|         0|             45|        DSL|       UmAno|   DebitoEmConta|         42.3|    0|      0|          0|           0|                       0|              1|           0|                1|             1|      0|              0|           0|\n",
      "|  4|         0|              2|FibraOptica| Mensalmente|BoletoEletronico|         70.7|    1|      0|          0|           1|                       0|              0|           0|                0|             0|      0|              0|           1|\n",
      "|  5|         0|              8|FibraOptica| Mensalmente|BoletoEletronico|        99.65|    1|      0|          0|           1|                       1|              0|           0|                1|             0|      1|              1|           1|\n",
      "|  6|         0|             22|FibraOptica| Mensalmente|   CartaoCredito|         89.1|    0|      0|          1|           1|                       1|              0|           1|                0|             0|      1|              0|           1|\n",
      "|  7|         0|             10|        DSL| Mensalmente|          Boleto|        29.75|    0|      0|          0|           0|                       0|              1|           0|                0|             0|      0|              0|           0|\n",
      "|  8|         0|             28|FibraOptica| Mensalmente|BoletoEletronico|        104.8|    1|      1|          0|           1|                       1|              0|           0|                1|             1|      1|              1|           1|\n",
      "|  9|         0|             62|        DSL|       UmAno|   DebitoEmConta|        56.15|    0|      0|          1|           1|                       0|              1|           1|                0|             0|      0|              0|           0|\n",
      "| 10|         0|             13|        DSL| Mensalmente|          Boleto|        49.95|    0|      1|          1|           1|                       0|              1|           0|                0|             0|      0|              0|           1|\n",
      "| 11|         0|             16|        Nao|    DoisAnos|   CartaoCredito|        18.95|    0|      0|          0|           1|                       0|              0|           0|                0|             0|      0|              0|           0|\n",
      "| 12|         0|             58|FibraOptica|       UmAno|   CartaoCredito|       100.35|    0|      1|          0|           1|                       1|              0|           0|                1|             0|      1|              1|           0|\n",
      "| 13|         0|             49|FibraOptica| Mensalmente|   DebitoEmConta|        103.7|    1|      0|          0|           1|                       1|              0|           1|                1|             0|      1|              1|           1|\n",
      "| 14|         0|             25|FibraOptica| Mensalmente|BoletoEletronico|        105.5|    0|      0|          0|           1|                       0|              1|           0|                1|             1|      1|              1|           1|\n",
      "| 15|         0|             69|FibraOptica|    DoisAnos|   CartaoCredito|       113.25|    0|      1|          1|           1|                       1|              1|           1|                1|             1|      1|              1|           0|\n",
      "| 16|         0|             52|        Nao|       UmAno|          Boleto|        20.65|    0|      0|          0|           1|                       0|              0|           0|                0|             0|      0|              0|           0|\n",
      "| 17|         0|             71|FibraOptica|    DoisAnos|   DebitoEmConta|        106.7|    0|      0|          1|           1|                       1|              1|           0|                1|             0|      1|              1|           0|\n",
      "| 18|         0|             10|        DSL| Mensalmente|   CartaoCredito|         55.2|    1|      1|          1|           1|                       0|              0|           0|                1|             1|      0|              0|           0|\n",
      "| 19|         0|             21|FibraOptica| Mensalmente|BoletoEletronico|        90.05|    0|      0|          0|           1|                       0|              0|           1|                1|             0|      0|              1|           1|\n",
      "+---+----------+---------------+-----------+------------+----------------+-------------+-----+-------+-----------+------------+------------------------+---------------+------------+-----------------+--------------+-------+---------------+------------+\n",
      "only showing top 20 rows\n",
      "\n"
     ]
    }
   ],
   "source": [
    "dados.select(todasColunas).show()"
   ]
  },
  {
   "cell_type": "code",
   "execution_count": 16,
   "metadata": {},
   "outputs": [],
   "source": [
    "dataset = dados.select(todasColunas)"
   ]
  },
  {
   "cell_type": "code",
   "execution_count": 17,
   "metadata": {},
   "outputs": [
    {
     "name": "stdout",
     "output_type": "stream",
     "text": [
      "root\n",
      " |-- id: integer (nullable = true)\n",
      " |-- Mais65anos: integer (nullable = true)\n",
      " |-- MesesDeContrato: integer (nullable = true)\n",
      " |-- Internet: string (nullable = true)\n",
      " |-- TipoContrato: string (nullable = true)\n",
      " |-- MetodoPagamento: string (nullable = true)\n",
      " |-- MesesCobrados: double (nullable = true)\n",
      " |-- Churn: integer (nullable = false)\n",
      " |-- Conjuge: integer (nullable = false)\n",
      " |-- Dependentes: integer (nullable = false)\n",
      " |-- TelefoneFixo: integer (nullable = false)\n",
      " |-- MaisDeUmaLinhaTelefonica: integer (nullable = false)\n",
      " |-- SegurancaOnline: integer (nullable = false)\n",
      " |-- BackupOnline: integer (nullable = false)\n",
      " |-- SeguroDispositivo: integer (nullable = false)\n",
      " |-- SuporteTecnico: integer (nullable = false)\n",
      " |-- TVaCabo: integer (nullable = false)\n",
      " |-- StreamingFilmes: integer (nullable = false)\n",
      " |-- ContaCorreio: integer (nullable = false)\n",
      "\n"
     ]
    }
   ],
   "source": [
    "dataset.printSchema()"
   ]
  },
  {
   "cell_type": "markdown",
   "metadata": {},
   "source": [
    "# Criando Dummies"
   ]
  },
  {
   "cell_type": "code",
   "execution_count": 18,
   "metadata": {},
   "outputs": [
    {
     "name": "stdout",
     "output_type": "stream",
     "text": [
      "+-----------+------------+----------------+\n",
      "|   Internet|TipoContrato| MetodoPagamento|\n",
      "+-----------+------------+----------------+\n",
      "|        DSL| Mensalmente|BoletoEletronico|\n",
      "|        DSL|       UmAno|          Boleto|\n",
      "|        DSL| Mensalmente|          Boleto|\n",
      "|        DSL|       UmAno|   DebitoEmConta|\n",
      "|FibraOptica| Mensalmente|BoletoEletronico|\n",
      "|FibraOptica| Mensalmente|BoletoEletronico|\n",
      "|FibraOptica| Mensalmente|   CartaoCredito|\n",
      "|        DSL| Mensalmente|          Boleto|\n",
      "|FibraOptica| Mensalmente|BoletoEletronico|\n",
      "|        DSL|       UmAno|   DebitoEmConta|\n",
      "|        DSL| Mensalmente|          Boleto|\n",
      "|        Nao|    DoisAnos|   CartaoCredito|\n",
      "|FibraOptica|       UmAno|   CartaoCredito|\n",
      "|FibraOptica| Mensalmente|   DebitoEmConta|\n",
      "|FibraOptica| Mensalmente|BoletoEletronico|\n",
      "|FibraOptica|    DoisAnos|   CartaoCredito|\n",
      "|        Nao|       UmAno|          Boleto|\n",
      "|FibraOptica|    DoisAnos|   DebitoEmConta|\n",
      "|        DSL| Mensalmente|   CartaoCredito|\n",
      "|FibraOptica| Mensalmente|BoletoEletronico|\n",
      "+-----------+------------+----------------+\n",
      "only showing top 20 rows\n",
      "\n"
     ]
    }
   ],
   "source": [
    "dados.select([\"Internet\", \"TipoContrato\", \"MetodoPagamento\"]).show()"
   ]
  },
  {
   "cell_type": "code",
   "execution_count": 19,
   "metadata": {},
   "outputs": [
    {
     "name": "stdout",
     "output_type": "stream",
     "text": [
      "+----+---+-----------+---+\n",
      "|  id|DSL|FibraOptica|Nao|\n",
      "+----+---+-----------+---+\n",
      "|7982|  1|          0|  0|\n",
      "|9465|  0|          1|  0|\n",
      "|2122|  1|          0|  0|\n",
      "|3997|  1|          0|  0|\n",
      "|6654|  0|          1|  0|\n",
      "|7880|  0|          1|  0|\n",
      "|4519|  0|          1|  0|\n",
      "|6466|  0|          1|  0|\n",
      "| 496|  1|          0|  0|\n",
      "|7833|  0|          1|  0|\n",
      "|1591|  0|          0|  1|\n",
      "|2866|  0|          1|  0|\n",
      "|8592|  0|          1|  0|\n",
      "|1829|  0|          1|  0|\n",
      "| 463|  0|          1|  0|\n",
      "|4900|  0|          1|  0|\n",
      "|4818|  0|          1|  0|\n",
      "|7554|  1|          0|  0|\n",
      "|1342|  0|          0|  1|\n",
      "|5300|  0|          1|  0|\n",
      "+----+---+-----------+---+\n",
      "only showing top 20 rows\n",
      "\n"
     ]
    }
   ],
   "source": [
    "dataset.groupBy(\"id\").pivot(\"Internet\").agg(f.lit(1)).na.fill(0).show()"
   ]
  },
  {
   "cell_type": "code",
   "execution_count": 20,
   "metadata": {},
   "outputs": [],
   "source": [
    "Internet = dataset.groupBy(\"id\").pivot(\"Internet\").agg(f.lit(1)).na.fill(0)\n",
    "TipoContrato = dataset.groupBy(\"id\").pivot(\"TipoContrato\").agg(f.lit(1)).na.fill(0)\n",
    "MetodoPagamento = dataset.groupBy(\"id\").pivot(\"MetodoPagamento\").agg(f.lit(1)).na.fill(0)"
   ]
  },
  {
   "cell_type": "code",
   "execution_count": 21,
   "metadata": {},
   "outputs": [
    {
     "name": "stdout",
     "output_type": "stream",
     "text": [
      "+----+----------+---------------+-----------------+-----+-------+-----------+------------+------------------------+---------------+------------+-----------------+--------------+-------+---------------+------------+------------+--------------------+------------+------------------------+------------------+---------------------+------------+-----------------------------+-----------------------------+--------------------------------+----------------------+\n",
      "|id  |Mais65anos|MesesDeContrato|MesesCobrados    |Churn|Conjuge|Dependentes|TelefoneFixo|MaisDeUmaLinhaTelefonica|SegurancaOnline|BackupOnline|SeguroDispositivo|SuporteTecnico|TVaCabo|StreamingFilmes|ContaCorreio|Internet_DSL|Internet_FibraOptica|Internet_Nao|TipoContrato_Mensalmente|TipoContrato_UmAno|TipoContrato_DoisAnos|Internet_DSL|MetodoPagamento_DebitoEmConta|MetodoPagamento_CartaoCredito|MetodoPagamento_BoletoEletronico|MetodoPagamento_Boleto|\n",
      "+----+----------+---------------+-----------------+-----+-------+-----------+------------+------------------------+---------------+------------+-----------------+--------------+-------+---------------+------------+------------+--------------------+------------+------------------------+------------------+---------------------+------------+-----------------------------+-----------------------------+--------------------------------+----------------------+\n",
      "|7982|0         |1              |45.30540797610398|1    |0      |0          |0           |0                       |0              |0           |0                |0             |1      |1              |1           |1           |0                   |0           |1                       |0                 |0                    |1           |0                            |0                            |1                               |0                     |\n",
      "|9465|0         |60             |103.6142230120257|1    |1      |0          |1           |1                       |0              |1           |1                |0             |1      |1              |1           |0           |1                   |0           |1                       |0                 |0                    |0           |0                            |0                            |1                               |0                     |\n",
      "|2122|0         |12             |75.85            |0    |0      |0          |1           |1                       |0              |0           |0                |1             |1      |1              |1           |1           |0                   |0           |0                       |1                 |0                    |1           |0                            |0                            |0                               |1                     |\n",
      "|3997|0         |69             |61.45            |0    |1      |0          |1           |0                       |0              |1           |0                |0             |0      |1              |1           |1           |0                   |0           |0                       |0                 |1                    |1           |0                            |1                            |0                               |0                     |\n",
      "|6654|0         |7              |86.5             |1    |1      |0          |1           |1                       |0              |0           |0                |0             |1      |0              |1           |0           |1                   |0           |1                       |0                 |0                    |0           |0                            |0                            |1                               |0                     |\n",
      "|7880|0         |14             |85.03742670311915|1    |0      |0          |1           |1                       |0              |0           |0                |0             |0      |1              |1           |0           |1                   |0           |1                       |0                 |0                    |0           |0                            |0                            |1                               |0                     |\n",
      "|4519|0         |57             |109.4            |0    |1      |0          |1           |1                       |0              |1           |1                |1             |1      |1              |1           |0           |1                   |0           |0                       |1                 |0                    |0           |1                            |0                            |0                               |0                     |\n",
      "|6466|0         |18             |74.15            |0    |0      |0          |1           |1                       |0              |0           |0                |0             |0      |0              |0           |0           |1                   |0           |1                       |0                 |0                    |0           |0                            |0                            |0                               |1                     |\n",
      "|496 |0         |28             |60.9             |0    |1      |0          |1           |0                       |1              |1           |0                |1             |0      |0              |0           |1           |0                   |0           |1                       |0                 |0                    |1           |0                            |0                            |0                               |1                     |\n",
      "|7833|0         |46             |80.8824189403559 |1    |1      |0          |1           |0                       |0              |0           |0                |0             |0      |1              |1           |0           |1                   |0           |1                       |0                 |0                    |0           |0                            |0                            |1                               |0                     |\n",
      "|1591|0         |17             |21.1             |0    |0      |0          |1           |0                       |0              |0           |0                |0             |0      |0              |0           |0           |0                   |1           |1                       |0                 |0                    |0           |0                            |1                            |0                               |0                     |\n",
      "|2866|0         |12             |84.6             |0    |0      |0          |1           |0                       |0              |1           |0                |0             |0      |1              |1           |0           |1                   |0           |1                       |0                 |0                    |0           |0                            |0                            |1                               |0                     |\n",
      "|8592|0         |5              |82.71735660557214|1    |1      |0          |1           |1                       |0              |0           |0                |0             |1      |0              |1           |0           |1                   |0           |1                       |0                 |0                    |0           |0                            |0                            |1                               |0                     |\n",
      "|1829|0         |8              |74.85            |0    |0      |0          |1           |1                       |0              |0           |0                |0             |0      |0              |1           |0           |1                   |0           |1                       |0                 |0                    |0           |0                            |0                            |1                               |0                     |\n",
      "|463 |0         |7              |99.8             |1    |0      |0          |1           |1                       |0              |1           |0                |0             |1      |1              |1           |0           |1                   |0           |1                       |0                 |0                    |0           |0                            |0                            |1                               |0                     |\n",
      "|4900|1         |37             |85.7             |1    |1      |0          |1           |1                       |0              |0           |0                |0             |1      |0              |1           |0           |1                   |0           |1                       |0                 |0                    |0           |0                            |0                            |1                               |0                     |\n",
      "|4818|1         |64             |80.3             |0    |1      |0          |1           |0                       |1              |0           |1                |0             |0      |0              |0           |0           |1                   |0           |0                       |1                 |0                    |0           |0                            |1                            |0                               |0                     |\n",
      "|7554|0         |1              |50.74303124820026|1    |0      |0          |1           |0                       |0              |1           |0                |0             |0      |0              |0           |1           |0                   |0           |1                       |0                 |0                    |1           |0                            |0                            |1                               |0                     |\n",
      "|1342|0         |8              |20.0             |0    |0      |0          |1           |0                       |0              |0           |0                |0             |0      |0              |0           |0           |0                   |1           |0                       |0                 |1                    |0           |0                            |0                            |0                               |1                     |\n",
      "|5300|0         |1              |80.05            |1    |1      |1          |1           |0                       |0              |0           |0                |0             |1      |0              |1           |0           |1                   |0           |1                       |0                 |0                    |0           |0                            |0                            |0                               |1                     |\n",
      "+----+----------+---------------+-----------------+-----+-------+-----------+------------+------------------------+---------------+------------+-----------------+--------------+-------+---------------+------------+------------+--------------------+------------+------------------------+------------------+---------------------+------------+-----------------------------+-----------------------------+--------------------------------+----------------------+\n",
      "only showing top 20 rows\n",
      "\n"
     ]
    }
   ],
   "source": [
    "dataset\\\n",
    "    .join(Internet, \"id\", how=\"inner\")\\\n",
    "    .join(TipoContrato, \"id\", how=\"inner\")\\\n",
    "    .join(MetodoPagamento, \"id\", how=\"inner\")\\\n",
    "    .select(\n",
    "        \"*\",\n",
    "        f.col(\"DSL\").alias(\"Internet_DSL\"),\n",
    "        f.col(\"FibraOptica\").alias(\"Internet_FibraOptica\"),\n",
    "        f.col(\"Nao\").alias(\"Internet_Nao\"),\n",
    "        f.col(\"Mensalmente\").alias(\"TipoContrato_Mensalmente\"),\n",
    "        f.col(\"UmAno\").alias(\"TipoContrato_UmAno\"),\n",
    "        f.col(\"DoisAnos\").alias(\"TipoContrato_DoisAnos\"),\n",
    "        f.col(\"DSL\").alias(\"Internet_DSL\"),\n",
    "        f.col(\"DebitoEmConta\").alias(\"MetodoPagamento_DebitoEmConta\"),\n",
    "        f.col(\"CartaoCredito\").alias(\"MetodoPagamento_CartaoCredito\"),\n",
    "        f.col(\"BoletoEletronico\").alias(\"MetodoPagamento_BoletoEletronico\"),\n",
    "        f.col(\"Boleto\").alias(\"MetodoPagamento_Boleto\")\n",
    "    )\\\n",
    "        .drop(\n",
    "            \"Internet\", \"TipoContrato\", \"MetodoPagamento\", \"DSL\",\n",
    "            \"FibraOptica\", \"Nao\", \"Mensalmente\", \"UmAno\", \"DoisAnos\",\n",
    "            \"DebitoEmConta\", \"CartaoCredito\", \"BoletoEletronico\", \"Boleto\"\n",
    "        )\\\n",
    "        .show(truncate=False)\n",
    "    "
   ]
  },
  {
   "cell_type": "code",
   "execution_count": 22,
   "metadata": {},
   "outputs": [],
   "source": [
    "dataset = dataset\\\n",
    "    .join(Internet, \"id\", how=\"inner\")\\\n",
    "    .join(TipoContrato, \"id\", how=\"inner\")\\\n",
    "    .join(MetodoPagamento, \"id\", how=\"inner\")\\\n",
    "    .select(\n",
    "        \"*\",\n",
    "        f.col(\"DSL\").alias(\"Internet_DSL\"),\n",
    "        f.col(\"FibraOptica\").alias(\"Internet_FibraOptica\"),\n",
    "        f.col(\"Nao\").alias(\"Internet_Nao\"),\n",
    "        f.col(\"Mensalmente\").alias(\"TipoContrato_Mensalmente\"),\n",
    "        f.col(\"UmAno\").alias(\"TipoContrato_UmAno\"),\n",
    "        f.col(\"DoisAnos\").alias(\"TipoContrato_DoisAnos\"),\n",
    "        f.col(\"DebitoEmConta\").alias(\"MetodoPagamento_DebitoEmConta\"),\n",
    "        f.col(\"CartaoCredito\").alias(\"MetodoPagamento_CartaoCredito\"),\n",
    "        f.col(\"BoletoEletronico\").alias(\"MetodoPagamento_BoletoEletronico\"),\n",
    "        f.col(\"Boleto\").alias(\"MetodoPagamento_Boleto\")\n",
    "    )\\\n",
    "        .drop(\n",
    "            \"Internet\", \"TipoContrato\", \"MetodoPagamento\", \"DSL\",\n",
    "            \"FibraOptica\", \"Nao\", \"Mensalmente\", \"UmAno\", \"DoisAnos\",\n",
    "            \"DebitoEmConta\", \"CartaoCredito\", \"BoletoEletronico\", \"Boleto\"\n",
    "        )"
   ]
  },
  {
   "cell_type": "code",
   "execution_count": 23,
   "metadata": {},
   "outputs": [
    {
     "name": "stdout",
     "output_type": "stream",
     "text": [
      "root\n",
      " |-- id: integer (nullable = true)\n",
      " |-- Mais65anos: integer (nullable = true)\n",
      " |-- MesesDeContrato: integer (nullable = true)\n",
      " |-- MesesCobrados: double (nullable = true)\n",
      " |-- Churn: integer (nullable = false)\n",
      " |-- Conjuge: integer (nullable = false)\n",
      " |-- Dependentes: integer (nullable = false)\n",
      " |-- TelefoneFixo: integer (nullable = false)\n",
      " |-- MaisDeUmaLinhaTelefonica: integer (nullable = false)\n",
      " |-- SegurancaOnline: integer (nullable = false)\n",
      " |-- BackupOnline: integer (nullable = false)\n",
      " |-- SeguroDispositivo: integer (nullable = false)\n",
      " |-- SuporteTecnico: integer (nullable = false)\n",
      " |-- TVaCabo: integer (nullable = false)\n",
      " |-- StreamingFilmes: integer (nullable = false)\n",
      " |-- ContaCorreio: integer (nullable = false)\n",
      " |-- Internet_DSL: integer (nullable = true)\n",
      " |-- Internet_FibraOptica: integer (nullable = true)\n",
      " |-- Internet_Nao: integer (nullable = true)\n",
      " |-- TipoContrato_Mensalmente: integer (nullable = true)\n",
      " |-- TipoContrato_UmAno: integer (nullable = true)\n",
      " |-- TipoContrato_DoisAnos: integer (nullable = true)\n",
      " |-- MetodoPagamento_DebitoEmConta: integer (nullable = true)\n",
      " |-- MetodoPagamento_CartaoCredito: integer (nullable = true)\n",
      " |-- MetodoPagamento_BoletoEletronico: integer (nullable = true)\n",
      " |-- MetodoPagamento_Boleto: integer (nullable = true)\n",
      "\n"
     ]
    }
   ],
   "source": [
    "dataset.printSchema()"
   ]
  },
  {
   "cell_type": "markdown",
   "metadata": {},
   "source": [
    "# O modelo"
   ]
  },
  {
   "cell_type": "markdown",
   "metadata": {},
   "source": [
    "## Preparação dos Dados"
   ]
  },
  {
   "cell_type": "code",
   "execution_count": 24,
   "metadata": {},
   "outputs": [],
   "source": [
    "from pyspark.ml.feature import VectorAssembler"
   ]
  },
  {
   "cell_type": "code",
   "execution_count": 25,
   "metadata": {},
   "outputs": [],
   "source": [
    "dataset = dataset.withColumnRenamed(\"Churn\", \"label\")"
   ]
  },
  {
   "cell_type": "code",
   "execution_count": 26,
   "metadata": {},
   "outputs": [
    {
     "data": {
      "text/plain": [
       "['Mais65anos',\n",
       " 'MesesDeContrato',\n",
       " 'MesesCobrados',\n",
       " 'Conjuge',\n",
       " 'Dependentes',\n",
       " 'TelefoneFixo',\n",
       " 'MaisDeUmaLinhaTelefonica',\n",
       " 'SegurancaOnline',\n",
       " 'BackupOnline',\n",
       " 'SeguroDispositivo',\n",
       " 'SuporteTecnico',\n",
       " 'TVaCabo',\n",
       " 'StreamingFilmes',\n",
       " 'ContaCorreio',\n",
       " 'Internet_DSL',\n",
       " 'Internet_FibraOptica',\n",
       " 'Internet_Nao',\n",
       " 'TipoContrato_Mensalmente',\n",
       " 'TipoContrato_UmAno',\n",
       " 'TipoContrato_DoisAnos',\n",
       " 'MetodoPagamento_DebitoEmConta',\n",
       " 'MetodoPagamento_CartaoCredito',\n",
       " 'MetodoPagamento_BoletoEletronico',\n",
       " 'MetodoPagamento_Boleto']"
      ]
     },
     "execution_count": 26,
     "metadata": {},
     "output_type": "execute_result"
    }
   ],
   "source": [
    "X = dataset.columns\n",
    "X.remove(\"label\")\n",
    "X.remove(\"id\")\n",
    "X"
   ]
  },
  {
   "cell_type": "code",
   "execution_count": 27,
   "metadata": {},
   "outputs": [],
   "source": [
    "assembler = VectorAssembler(inputCols=X, outputCol=\"features\")"
   ]
  },
  {
   "cell_type": "code",
   "execution_count": 28,
   "metadata": {},
   "outputs": [],
   "source": [
    "dataset_prep = assembler.transform(dataset=dataset).select(\"features\", \"label\")"
   ]
  },
  {
   "cell_type": "code",
   "execution_count": 29,
   "metadata": {},
   "outputs": [
    {
     "name": "stdout",
     "output_type": "stream",
     "text": [
      "+-----------------------------------------------------------------------------------------------------------+-----+\n",
      "|features                                                                                                   |label|\n",
      "+-----------------------------------------------------------------------------------------------------------+-----+\n",
      "|(24,[1,2,11,12,13,14,17,22],[1.0,45.30540797610398,1.0,1.0,1.0,1.0,1.0,1.0])                               |1    |\n",
      "|(24,[1,2,3,5,6,8,9,11,12,13,15,17,22],[60.0,103.6142230120257,1.0,1.0,1.0,1.0,1.0,1.0,1.0,1.0,1.0,1.0,1.0])|1    |\n",
      "|(24,[1,2,5,6,10,11,12,13,14,18,23],[12.0,75.85,1.0,1.0,1.0,1.0,1.0,1.0,1.0,1.0,1.0])                       |0    |\n",
      "|(24,[1,2,3,5,8,12,13,14,19,21],[69.0,61.45,1.0,1.0,1.0,1.0,1.0,1.0,1.0,1.0])                               |0    |\n",
      "|(24,[1,2,3,5,6,11,13,15,17,22],[7.0,86.5,1.0,1.0,1.0,1.0,1.0,1.0,1.0,1.0])                                 |1    |\n",
      "|(24,[1,2,5,6,12,13,15,17,22],[14.0,85.03742670311915,1.0,1.0,1.0,1.0,1.0,1.0,1.0])                         |1    |\n",
      "|(24,[1,2,3,5,6,8,9,10,11,12,13,15,18,20],[57.0,109.4,1.0,1.0,1.0,1.0,1.0,1.0,1.0,1.0,1.0,1.0,1.0,1.0])     |0    |\n",
      "|(24,[1,2,5,6,15,17,23],[18.0,74.15,1.0,1.0,1.0,1.0,1.0])                                                   |0    |\n",
      "|(24,[1,2,3,5,7,8,10,14,17,23],[28.0,60.9,1.0,1.0,1.0,1.0,1.0,1.0,1.0,1.0])                                 |0    |\n",
      "|(24,[1,2,3,5,12,13,15,17,22],[46.0,80.8824189403559,1.0,1.0,1.0,1.0,1.0,1.0,1.0])                          |1    |\n",
      "+-----------------------------------------------------------------------------------------------------------+-----+\n",
      "only showing top 10 rows\n",
      "\n"
     ]
    }
   ],
   "source": [
    "dataset_prep.show(10, False)"
   ]
  },
  {
   "cell_type": "markdown",
   "metadata": {},
   "source": [
    "# Ajuste e Previsão"
   ]
  },
  {
   "cell_type": "code",
   "execution_count": 30,
   "metadata": {},
   "outputs": [],
   "source": [
    "SEED = 101"
   ]
  },
  {
   "cell_type": "code",
   "execution_count": 31,
   "metadata": {},
   "outputs": [],
   "source": [
    "treino, teste = dataset_prep.randomSplit([0.7, 0.3], seed=SEED)"
   ]
  },
  {
   "cell_type": "code",
   "execution_count": 32,
   "metadata": {},
   "outputs": [
    {
     "data": {
      "text/plain": [
       "7206"
      ]
     },
     "execution_count": 32,
     "metadata": {},
     "output_type": "execute_result"
    }
   ],
   "source": [
    "treino.count()"
   ]
  },
  {
   "cell_type": "code",
   "execution_count": 33,
   "metadata": {},
   "outputs": [
    {
     "data": {
      "text/plain": [
       "3142"
      ]
     },
     "execution_count": 33,
     "metadata": {},
     "output_type": "execute_result"
    }
   ],
   "source": [
    "teste.count()"
   ]
  },
  {
   "cell_type": "code",
   "execution_count": 34,
   "metadata": {},
   "outputs": [],
   "source": [
    "from pyspark.ml.classification import LogisticRegression"
   ]
  },
  {
   "cell_type": "code",
   "execution_count": 35,
   "metadata": {},
   "outputs": [],
   "source": [
    "lr = LogisticRegression()"
   ]
  },
  {
   "cell_type": "code",
   "execution_count": 36,
   "metadata": {},
   "outputs": [],
   "source": [
    "modelo_lr = lr.fit(treino)"
   ]
  },
  {
   "cell_type": "code",
   "execution_count": 37,
   "metadata": {},
   "outputs": [],
   "source": [
    "previsoes_lr_teste = modelo_lr.transform(teste)"
   ]
  },
  {
   "cell_type": "code",
   "execution_count": 38,
   "metadata": {},
   "outputs": [
    {
     "name": "stdout",
     "output_type": "stream",
     "text": [
      "+--------------------+-----+--------------------+--------------------+----------+\n",
      "|            features|label|       rawPrediction|         probability|prediction|\n",
      "+--------------------+-----+--------------------+--------------------+----------+\n",
      "|(24,[0,1,2,3,4,5,...|    0|[3.02174179751551...|[0.95354674000282...|       0.0|\n",
      "|(24,[0,1,2,3,4,5,...|    0|[-0.0922192966076...|[0.47696150091605...|       1.0|\n",
      "|(24,[0,1,2,3,4,5,...|    1|[0.18744121711361...|[0.54672358463156...|       0.0|\n",
      "|(24,[0,1,2,3,4,5,...|    1|[0.91716501260103...|[0.71446410549163...|       0.0|\n",
      "|(24,[0,1,2,3,4,5,...|    0|[-0.1495904711610...|[0.46267196467801...|       1.0|\n",
      "|(24,[0,1,2,3,4,5,...|    0|[-0.1680594619286...|[0.45808374494006...|       1.0|\n",
      "|(24,[0,1,2,3,4,5,...|    0|[-1.4170949608173...|[0.19511740608882...|       1.0|\n",
      "|(24,[0,1,2,3,4,5,...|    0|[0.14194260698794...|[0.53542619200881...|       0.0|\n",
      "|(24,[0,1,2,3,4,5,...|    0|[0.67046644011599...|[0.66160759507905...|       0.0|\n",
      "|(24,[0,1,2,3,4,5,...|    0|[1.46841036244999...|[0.81281564870727...|       0.0|\n",
      "|(24,[0,1,2,3,4,5,...|    1|[-0.2187083605333...|[0.44553982138394...|       1.0|\n",
      "|(24,[0,1,2,3,4,5,...|    1|[-1.0342537570067...|[0.26226025614667...|       1.0|\n",
      "|(24,[0,1,2,3,4,5,...|    0|[5.50017227754076...|[0.99593056056380...|       0.0|\n",
      "|(24,[0,1,2,3,4,8,...|    0|[0.78512618330368...|[0.68678387079939...|       0.0|\n",
      "|(24,[0,1,2,3,4,8,...|    0|[0.84647423373263...|[0.69982700991647...|       0.0|\n",
      "|(24,[0,1,2,3,4,8,...|    0|[2.71891428132877...|[0.93813354968549...|       0.0|\n",
      "|(24,[0,1,2,3,5,6,...|    0|[4.47635640497721...|[0.98875314765919...|       0.0|\n",
      "|(24,[0,1,2,3,5,6,...|    0|[1.61650336401317...|[0.83431233628064...|       0.0|\n",
      "|(24,[0,1,2,3,5,6,...|    0|[3.44539231448552...|[0.96909343212403...|       0.0|\n",
      "|(24,[0,1,2,3,5,6,...|    0|[3.42849251731229...|[0.96858322780664...|       0.0|\n",
      "+--------------------+-----+--------------------+--------------------+----------+\n",
      "only showing top 20 rows\n",
      "\n"
     ]
    }
   ],
   "source": [
    "previsoes_lr_teste.show()"
   ]
  },
  {
   "cell_type": "markdown",
   "metadata": {},
   "source": [
    "# Métricas"
   ]
  },
  {
   "cell_type": "code",
   "execution_count": 39,
   "metadata": {},
   "outputs": [],
   "source": [
    "resumo_lr_treino = modelo_lr.summary"
   ]
  },
  {
   "cell_type": "code",
   "execution_count": 40,
   "metadata": {},
   "outputs": [
    {
     "name": "stdout",
     "output_type": "stream",
     "text": [
      "Acurácia: 0.78\n",
      "Precisão: 0.77\n",
      "Recall: 0.81\n",
      "F1: 0.79\n"
     ]
    }
   ],
   "source": [
    "print(f\"Acurácia: {resumo_lr_treino.accuracy:.2f}\")\n",
    "print(f\"Precisão: {resumo_lr_treino.precisionByLabel[1]:.2f}\")\n",
    "print(f\"Recall: {resumo_lr_treino.recallByLabel[1]:.2f}\")\n",
    "print(f\"F1: {resumo_lr_treino.fMeasureByLabel()[1]:.2f}\")"
   ]
  },
  {
   "cell_type": "code",
   "execution_count": 41,
   "metadata": {},
   "outputs": [
    {
     "data": {
      "text/plain": [
       "1256"
      ]
     },
     "execution_count": 41,
     "metadata": {},
     "output_type": "execute_result"
    }
   ],
   "source": [
    "previsoes_lr_teste.select(\"label\", \"prediction\").where((f.col(\"label\") == 1) & (f.col(\"prediction\") == 1)).count()"
   ]
  },
  {
   "cell_type": "code",
   "execution_count": 42,
   "metadata": {},
   "outputs": [
    {
     "name": "stdout",
     "output_type": "stream",
     "text": [
      "1256 1179 400 307\n"
     ]
    }
   ],
   "source": [
    "tp = previsoes_lr_teste.select(\"label\", \"prediction\").where((f.col(\"label\") == 1) & (f.col(\"prediction\") == 1)).count()\n",
    "tn = previsoes_lr_teste.select(\"label\", \"prediction\").where((f.col(\"label\") == 0) & (f.col(\"prediction\") == 0)).count()\n",
    "fp = previsoes_lr_teste.select(\"label\", \"prediction\").where((f.col(\"label\") == 0) & (f.col(\"prediction\") == 1)).count()\n",
    "fn = previsoes_lr_teste.select(\"label\", \"prediction\").where((f.col(\"label\") == 1) & (f.col(\"prediction\") == 0)).count()\n",
    "print(tp, tn, fp, fn)"
   ]
  },
  {
   "cell_type": "code",
   "execution_count": 43,
   "metadata": {},
   "outputs": [],
   "source": [
    "def calcula_mostra_matriz_confusao(df_transform_modelo, normalize=False, percentage=True):\n",
    "\n",
    "    tp = previsoes_lr_teste.select(\"label\", \"prediction\").where((f.col(\"label\") == 1) & (f.col(\"prediction\") == 1)).count()\n",
    "    tn = previsoes_lr_teste.select(\"label\", \"prediction\").where((f.col(\"label\") == 0) & (f.col(\"prediction\") == 0)).count()\n",
    "    fp = previsoes_lr_teste.select(\"label\", \"prediction\").where((f.col(\"label\") == 0) & (f.col(\"prediction\") == 1)).count()\n",
    "    fn = previsoes_lr_teste.select(\"label\", \"prediction\").where((f.col(\"label\") == 1) & (f.col(\"prediction\") == 0)).count()\n",
    "\n",
    "    valorP = 1\n",
    "    valorN = 1\n",
    "\n",
    "    if normalize:\n",
    "        valorP = tp + fn\n",
    "        valorN = fp + tn \n",
    "\n",
    "    if percentage and normalize:\n",
    "        valorP = valorP / 100\n",
    "        valorN = valorN / 100\n",
    "\n",
    "    \n",
    "    print(\" \" * 20, \"Previsto\")\n",
    "    print(\" \" * 15, \"Churn\", \" \" * 5, \"Não-Churn\")\n",
    "    print(\" \" * 4, \"Churn\", \" \" * 6, int(tp / valorP), \" \" * 7, int(fn / valorP))\n",
    "    print(\"Real\")\n",
    "    print(\" \" * 4, \"Não-Churn\", \" \" * 2, int(fp / valorN), \" \" * 7, int(tn / valorN))\n"
   ]
  },
  {
   "cell_type": "code",
   "execution_count": 44,
   "metadata": {},
   "outputs": [
    {
     "name": "stdout",
     "output_type": "stream",
     "text": [
      "                     Previsto\n",
      "                Churn       Não-Churn\n",
      "     Churn        1256         307\n",
      "Real\n",
      "     Não-Churn    400         1179\n"
     ]
    }
   ],
   "source": [
    "calcula_mostra_matriz_confusao(previsoes_lr_teste)"
   ]
  },
  {
   "cell_type": "markdown",
   "metadata": {},
   "source": [
    "# Árvore de Decisão\n",
    "## Decision Tree"
   ]
  },
  {
   "cell_type": "code",
   "execution_count": 45,
   "metadata": {},
   "outputs": [],
   "source": [
    "from pyspark.ml.classification import DecisionTreeClassifier"
   ]
  },
  {
   "cell_type": "code",
   "execution_count": 46,
   "metadata": {},
   "outputs": [],
   "source": [
    "dtc = DecisionTreeClassifier(seed=SEED)"
   ]
  },
  {
   "cell_type": "code",
   "execution_count": 47,
   "metadata": {},
   "outputs": [],
   "source": [
    "modelo_dtc = dtc.fit(treino)"
   ]
  },
  {
   "cell_type": "code",
   "execution_count": 48,
   "metadata": {},
   "outputs": [],
   "source": [
    "previsoes_dtc_treino = modelo_dtc.transform(treino)"
   ]
  },
  {
   "cell_type": "code",
   "execution_count": 49,
   "metadata": {},
   "outputs": [
    {
     "name": "stdout",
     "output_type": "stream",
     "text": [
      "+--------------------+-----+--------------+--------------------+----------+\n",
      "|            features|label| rawPrediction|         probability|prediction|\n",
      "+--------------------+-----+--------------+--------------------+----------+\n",
      "|(24,[0,1,2,3,4,5,...|    0|[2056.0,334.0]|[0.86025104602510...|       0.0|\n",
      "|(24,[0,1,2,3,4,5,...|    0|[2056.0,334.0]|[0.86025104602510...|       0.0|\n",
      "|(24,[0,1,2,3,4,5,...|    0|    [22.0,3.0]|         [0.88,0.12]|       0.0|\n",
      "|(24,[0,1,2,3,4,5,...|    0|    [22.0,3.0]|         [0.88,0.12]|       0.0|\n",
      "|(24,[0,1,2,3,4,5,...|    0|    [22.0,3.0]|         [0.88,0.12]|       0.0|\n",
      "|(24,[0,1,2,3,4,5,...|    1|[331.0,1951.0]|[0.14504820333041...|       1.0|\n",
      "|(24,[0,1,2,3,4,5,...|    0| [239.0,205.0]|[0.53828828828828...|       0.0|\n",
      "|(24,[0,1,2,3,4,5,...|    1|[331.0,1951.0]|[0.14504820333041...|       1.0|\n",
      "|(24,[0,1,2,3,4,5,...|    0|[331.0,1951.0]|[0.14504820333041...|       1.0|\n",
      "|(24,[0,1,2,3,4,5,...|    0|[331.0,1951.0]|[0.14504820333041...|       1.0|\n",
      "|(24,[0,1,2,3,4,5,...|    0|[331.0,1951.0]|[0.14504820333041...|       1.0|\n",
      "|(24,[0,1,2,3,4,5,...|    0|[2056.0,334.0]|[0.86025104602510...|       0.0|\n",
      "|(24,[0,1,2,3,4,5,...|    0|[331.0,1951.0]|[0.14504820333041...|       1.0|\n",
      "|(24,[0,1,2,3,4,5,...|    0|[2056.0,334.0]|[0.86025104602510...|       0.0|\n",
      "|(24,[0,1,2,3,4,5,...|    0| [239.0,205.0]|[0.53828828828828...|       0.0|\n",
      "|(24,[0,1,2,3,4,5,...|    1| [239.0,205.0]|[0.53828828828828...|       0.0|\n",
      "|(24,[0,1,2,3,4,5,...|    0|[2056.0,334.0]|[0.86025104602510...|       0.0|\n",
      "|(24,[0,1,2,3,4,5,...|    0|  [51.0,141.0]| [0.265625,0.734375]|       1.0|\n",
      "|(24,[0,1,2,3,4,5,...|    0|[2056.0,334.0]|[0.86025104602510...|       0.0|\n",
      "|(24,[0,1,2,3,4,5,...|    0|[2056.0,334.0]|[0.86025104602510...|       0.0|\n",
      "+--------------------+-----+--------------+--------------------+----------+\n",
      "only showing top 20 rows\n",
      "\n"
     ]
    }
   ],
   "source": [
    "previsoes_dtc_treino.show()"
   ]
  },
  {
   "cell_type": "markdown",
   "metadata": {},
   "source": [
    "# Métricas"
   ]
  },
  {
   "cell_type": "code",
   "execution_count": 50,
   "metadata": {},
   "outputs": [],
   "source": [
    "from pyspark.ml.evaluation import MulticlassClassificationEvaluator"
   ]
  },
  {
   "cell_type": "code",
   "execution_count": 51,
   "metadata": {},
   "outputs": [],
   "source": [
    "evaluator = MulticlassClassificationEvaluator()"
   ]
  },
  {
   "cell_type": "code",
   "execution_count": 52,
   "metadata": {},
   "outputs": [
    {
     "data": {
      "text/plain": [
       "0.7917013599777962"
      ]
     },
     "execution_count": 52,
     "metadata": {},
     "output_type": "execute_result"
    }
   ],
   "source": [
    "evaluator.evaluate(previsoes_dtc_treino, {evaluator.metricName: 'accuracy'})"
   ]
  },
  {
   "cell_type": "code",
   "execution_count": 53,
   "metadata": {},
   "outputs": [
    {
     "name": "stdout",
     "output_type": "stream",
     "text": [
      "Acurácia: 0.7917013599777962\n",
      "Precisão: 0.7793489861259338\n",
      "Recall: 0.8125173852573018\n",
      "F1: 0.7955876344818194\n"
     ]
    }
   ],
   "source": [
    "print(f\"Acurácia: {evaluator.evaluate(previsoes_dtc_treino, {evaluator.metricName: 'accuracy'})}\")\n",
    "print(f\"Precisão: {evaluator.evaluate(previsoes_dtc_treino, {evaluator.metricName: 'precisionByLabel'})}\")\n",
    "print(f\"Recall: {evaluator.evaluate(previsoes_dtc_treino, {evaluator.metricName: 'recallByLabel'})}\")\n",
    "print(f\"F1: {evaluator.evaluate(previsoes_dtc_treino, {evaluator.metricName: 'fMeasureByLabel'})}\")"
   ]
  },
  {
   "cell_type": "code",
   "execution_count": 54,
   "metadata": {},
   "outputs": [],
   "source": [
    "previsoes_dtc_teste = modelo_dtc.transform(teste)"
   ]
  },
  {
   "cell_type": "code",
   "execution_count": 55,
   "metadata": {},
   "outputs": [
    {
     "name": "stdout",
     "output_type": "stream",
     "text": [
      "+--------------------+-----+--------------+--------------------+----------+\n",
      "|            features|label| rawPrediction|         probability|prediction|\n",
      "+--------------------+-----+--------------+--------------------+----------+\n",
      "|(24,[0,1,2,3,4,5,...|    0|[2056.0,334.0]|[0.86025104602510...|       0.0|\n",
      "|(24,[0,1,2,3,4,5,...|    0|  [62.0,128.0]|[0.32631578947368...|       1.0|\n",
      "|(24,[0,1,2,3,4,5,...|    1| [239.0,205.0]|[0.53828828828828...|       0.0|\n",
      "|(24,[0,1,2,3,4,5,...|    1| [239.0,205.0]|[0.53828828828828...|       0.0|\n",
      "|(24,[0,1,2,3,4,5,...|    0| [239.0,205.0]|[0.53828828828828...|       0.0|\n",
      "|(24,[0,1,2,3,4,5,...|    0|  [51.0,141.0]| [0.265625,0.734375]|       1.0|\n",
      "|(24,[0,1,2,3,4,5,...|    0|[331.0,1951.0]|[0.14504820333041...|       1.0|\n",
      "|(24,[0,1,2,3,4,5,...|    0| [239.0,205.0]|[0.53828828828828...|       0.0|\n",
      "|(24,[0,1,2,3,4,5,...|    0|  [63.0,118.0]|[0.34806629834254...|       1.0|\n",
      "|(24,[0,1,2,3,4,5,...|    0|[2056.0,334.0]|[0.86025104602510...|       0.0|\n",
      "|(24,[0,1,2,3,4,5,...|    1|  [63.0,118.0]|[0.34806629834254...|       1.0|\n",
      "|(24,[0,1,2,3,4,5,...|    1|[331.0,1951.0]|[0.14504820333041...|       1.0|\n",
      "|(24,[0,1,2,3,4,5,...|    0|[2056.0,334.0]|[0.86025104602510...|       0.0|\n",
      "|(24,[0,1,2,3,4,8,...|    0| [445.0,181.0]|[0.71086261980830...|       0.0|\n",
      "|(24,[0,1,2,3,4,8,...|    0|[2056.0,334.0]|[0.86025104602510...|       0.0|\n",
      "|(24,[0,1,2,3,4,8,...|    0|[2056.0,334.0]|[0.86025104602510...|       0.0|\n",
      "|(24,[0,1,2,3,5,6,...|    0|[2056.0,334.0]|[0.86025104602510...|       0.0|\n",
      "|(24,[0,1,2,3,5,6,...|    0| [239.0,205.0]|[0.53828828828828...|       0.0|\n",
      "|(24,[0,1,2,3,5,6,...|    0|[2056.0,334.0]|[0.86025104602510...|       0.0|\n",
      "|(24,[0,1,2,3,5,6,...|    0|[2056.0,334.0]|[0.86025104602510...|       0.0|\n",
      "+--------------------+-----+--------------+--------------------+----------+\n",
      "only showing top 20 rows\n",
      "\n"
     ]
    }
   ],
   "source": [
    "previsoes_dtc_teste.show()"
   ]
  },
  {
   "cell_type": "code",
   "execution_count": 56,
   "metadata": {},
   "outputs": [
    {
     "name": "stdout",
     "output_type": "stream",
     "text": [
      "Acurácia: 0.7714831317632082\n",
      "Precisão: 0.7649230769230769\n",
      "Recall: 0.7872070930968967\n",
      "F1: 0.7759051186017478\n"
     ]
    }
   ],
   "source": [
    "print(f\"Acurácia: {evaluator.evaluate(previsoes_dtc_teste, {evaluator.metricName: 'accuracy'})}\")\n",
    "print(f\"Precisão: {evaluator.evaluate(previsoes_dtc_teste, {evaluator.metricName: 'precisionByLabel'})}\")\n",
    "print(f\"Recall: {evaluator.evaluate(previsoes_dtc_teste, {evaluator.metricName: 'recallByLabel'})}\")\n",
    "print(f\"F1: {evaluator.evaluate(previsoes_dtc_teste, {evaluator.metricName: 'fMeasureByLabel'})}\")"
   ]
  },
  {
   "cell_type": "code",
   "execution_count": 57,
   "metadata": {},
   "outputs": [
    {
     "name": "stdout",
     "output_type": "stream",
     "text": [
      "Decision Tree Classifier\n",
      "========================================\n",
      "Dados de Treino\n",
      "========================================\n",
      "Matriz de Confusão\n",
      "----------------------------------------\n",
      "                     Previsto\n",
      "                Churn       Não-Churn\n",
      "     Churn        1256         307\n",
      "Real\n",
      "     Não-Churn    400         1179\n",
      "----------------------------------------\n",
      "Métricas\n",
      "----------------------------------------\n",
      "Acurácia: 0.791701\n",
      "Precisão: 0.805090\n",
      "Recall: 0.770978\n",
      "F1: 0.787664\n",
      "\n",
      "========================================\n",
      "Dados de Teste\n",
      "========================================\n",
      "Matriz de Confusão\n",
      "----------------------------------------\n",
      "                     Previsto\n",
      "                Churn       Não-Churn\n",
      "     Churn        1256         307\n",
      "Real\n",
      "     Não-Churn    400         1179\n",
      "----------------------------------------\n",
      "Métricas\n",
      "----------------------------------------\n",
      "Acurácia: 0.771483\n",
      "Precisão: 0.778510\n",
      "Recall: 0.755598\n",
      "F1: 0.766883\n"
     ]
    }
   ],
   "source": [
    "print('Decision Tree Classifier')\n",
    "print(\"=\"*40)\n",
    "print(\"Dados de Treino\")\n",
    "print(\"=\"*40)\n",
    "print(\"Matriz de Confusão\")\n",
    "print(\"-\"*40)\n",
    "calcula_mostra_matriz_confusao(previsoes_dtc_treino, normalize=False)\n",
    "print(\"-\"*40)\n",
    "print(\"Métricas\")\n",
    "print(\"-\"*40)\n",
    "print(\"Acurácia: %f\" % evaluator.evaluate(previsoes_dtc_treino, {evaluator.metricName: \"accuracy\"}))\n",
    "print(\"Precisão: %f\" % evaluator.evaluate(previsoes_dtc_treino, {evaluator.metricName: \"precisionByLabel\", evaluator.metricLabel: 1}))\n",
    "print(\"Recall: %f\" % evaluator.evaluate(previsoes_dtc_treino, {evaluator.metricName: \"recallByLabel\", evaluator.metricLabel: 1}))\n",
    "print(\"F1: %f\" % evaluator.evaluate(previsoes_dtc_treino, {evaluator.metricName: \"fMeasureByLabel\", evaluator.metricLabel: 1}))\n",
    "print(\"\")\n",
    "print(\"=\"*40)\n",
    "print(\"Dados de Teste\")\n",
    "print(\"=\"*40)\n",
    "print(\"Matriz de Confusão\")\n",
    "print(\"-\"*40)\n",
    "calcula_mostra_matriz_confusao(previsoes_dtc_teste, normalize=False)\n",
    "print(\"-\"*40)\n",
    "print(\"Métricas\")\n",
    "print(\"-\"*40)\n",
    "print(\"Acurácia: %f\" % evaluator.evaluate(previsoes_dtc_teste, {evaluator.metricName: \"accuracy\"}))\n",
    "print(\"Precisão: %f\" % evaluator.evaluate(previsoes_dtc_teste, {evaluator.metricName: \"precisionByLabel\", evaluator.metricLabel: 1}))\n",
    "print(\"Recall: %f\" % evaluator.evaluate(previsoes_dtc_teste, {evaluator.metricName: \"recallByLabel\", evaluator.metricLabel: 1}))\n",
    "print(\"F1: %f\" % evaluator.evaluate(previsoes_dtc_teste, {evaluator.metricName: \"fMeasureByLabel\", evaluator.metricLabel: 1}))"
   ]
  },
  {
   "cell_type": "markdown",
   "metadata": {},
   "source": [
    "# Random Forest Classifier"
   ]
  },
  {
   "cell_type": "code",
   "execution_count": 58,
   "metadata": {},
   "outputs": [],
   "source": [
    "from pyspark.ml.classification import RandomForestClassifier"
   ]
  },
  {
   "cell_type": "code",
   "execution_count": 59,
   "metadata": {},
   "outputs": [],
   "source": [
    "rfc = RandomForestClassifier(seed=SEED)"
   ]
  },
  {
   "cell_type": "code",
   "execution_count": 60,
   "metadata": {},
   "outputs": [],
   "source": [
    "modelo_rfc = rfc.fit(treino)"
   ]
  },
  {
   "cell_type": "code",
   "execution_count": 63,
   "metadata": {},
   "outputs": [],
   "source": [
    "previsoes_rfc_treino = modelo_rfc.transform(treino)"
   ]
  },
  {
   "cell_type": "code",
   "execution_count": 64,
   "metadata": {},
   "outputs": [
    {
     "name": "stdout",
     "output_type": "stream",
     "text": [
      "+--------------------+-----+--------------------+--------------------+----------+\n",
      "|            features|label|       rawPrediction|         probability|prediction|\n",
      "+--------------------+-----+--------------------+--------------------+----------+\n",
      "|(24,[0,1,2,3,4,5,...|    0|[15.0052773466704...|[0.75026386733352...|       0.0|\n",
      "|(24,[0,1,2,3,4,5,...|    0|[16.9295040273249...|[0.84647520136624...|       0.0|\n",
      "|(24,[0,1,2,3,4,5,...|    0|[9.13052909106814...|[0.45652645455340...|       1.0|\n",
      "|(24,[0,1,2,3,4,5,...|    0|[9.13052909106814...|[0.45652645455340...|       1.0|\n",
      "|(24,[0,1,2,3,4,5,...|    0|[8.59288938528764...|[0.42964446926438...|       1.0|\n",
      "|(24,[0,1,2,3,4,5,...|    1|[5.59647122885698...|[0.27982356144284...|       1.0|\n",
      "|(24,[0,1,2,3,4,5,...|    0|[9.33276328267787...|[0.46663816413389...|       1.0|\n",
      "|(24,[0,1,2,3,4,5,...|    1|[5.21616013157118...|[0.26080800657855...|       1.0|\n",
      "|(24,[0,1,2,3,4,5,...|    0|[5.45640255581361...|[0.27282012779068...|       1.0|\n",
      "|(24,[0,1,2,3,4,5,...|    0|[4.60442649894724...|[0.23022132494736...|       1.0|\n",
      "|(24,[0,1,2,3,4,5,...|    0|[5.67535692640751...|[0.28376784632037...|       1.0|\n",
      "|(24,[0,1,2,3,4,5,...|    0|[12.0200554644482...|[0.60100277322241...|       0.0|\n",
      "|(24,[0,1,2,3,4,5,...|    0|[4.78964359060310...|[0.23948217953015...|       1.0|\n",
      "|(24,[0,1,2,3,4,5,...|    0|[16.0034864403362...|[0.80017432201681...|       0.0|\n",
      "|(24,[0,1,2,3,4,5,...|    0|[9.33276328267787...|[0.46663816413389...|       1.0|\n",
      "|(24,[0,1,2,3,4,5,...|    1|[7.72923092350890...|[0.38646154617544...|       1.0|\n",
      "|(24,[0,1,2,3,4,5,...|    0|[15.9609332488468...|[0.79804666244234...|       0.0|\n",
      "|(24,[0,1,2,3,4,5,...|    0|[7.08160776437640...|[0.35408038821882...|       1.0|\n",
      "|(24,[0,1,2,3,4,5,...|    0|[18.2497256374866...|[0.91248628187433...|       0.0|\n",
      "|(24,[0,1,2,3,4,5,...|    0|[14.4759069267546...|[0.72379534633773...|       0.0|\n",
      "+--------------------+-----+--------------------+--------------------+----------+\n",
      "only showing top 20 rows\n",
      "\n"
     ]
    }
   ],
   "source": [
    "previsoes_rfc_treino.show()"
   ]
  },
  {
   "cell_type": "markdown",
   "metadata": {},
   "source": [
    "# Métricas"
   ]
  },
  {
   "cell_type": "code",
   "execution_count": 65,
   "metadata": {},
   "outputs": [],
   "source": [
    "previsoes_rfc_teste =modelo_rfc.transform(teste)"
   ]
  },
  {
   "cell_type": "code",
   "execution_count": 66,
   "metadata": {},
   "outputs": [
    {
     "name": "stdout",
     "output_type": "stream",
     "text": [
      "+--------------------+-----+--------------------+--------------------+----------+\n",
      "|            features|label|       rawPrediction|         probability|prediction|\n",
      "+--------------------+-----+--------------------+--------------------+----------+\n",
      "|(24,[0,1,2,3,4,5,...|    0|[16.7433871675615...|[0.83716935837807...|       0.0|\n",
      "|(24,[0,1,2,3,4,5,...|    0|[7.27313214599648...|[0.36365660729982...|       1.0|\n",
      "|(24,[0,1,2,3,4,5,...|    1|[7.46885072161585...|[0.37344253608079...|       1.0|\n",
      "|(24,[0,1,2,3,4,5,...|    1|[9.33276328267787...|[0.46663816413389...|       1.0|\n",
      "|(24,[0,1,2,3,4,5,...|    0|[7.79829004739264...|[0.38991450236963...|       1.0|\n",
      "|(24,[0,1,2,3,4,5,...|    0|[7.13263407834549...|[0.35663170391727...|       1.0|\n",
      "|(24,[0,1,2,3,4,5,...|    0|[4.45872635511159...|[0.22293631775557...|       1.0|\n",
      "|(24,[0,1,2,3,4,5,...|    0|[7.84691519125130...|[0.39234575956256...|       1.0|\n",
      "|(24,[0,1,2,3,4,5,...|    0|[9.94796150783366...|[0.49739807539168...|       1.0|\n",
      "|(24,[0,1,2,3,4,5,...|    0|[13.9419392354793...|[0.69709696177396...|       0.0|\n",
      "|(24,[0,1,2,3,4,5,...|    1|[5.91309232317621...|[0.29565461615881...|       1.0|\n",
      "|(24,[0,1,2,3,4,5,...|    1|[4.00056870239560...|[0.20002843511978...|       1.0|\n",
      "|(24,[0,1,2,3,4,5,...|    0|[18.3120509476018...|[0.91560254738009...|       0.0|\n",
      "|(24,[0,1,2,3,4,8,...|    0|[11.9244461164393...|[0.59622230582196...|       0.0|\n",
      "|(24,[0,1,2,3,4,8,...|    0|[15.3485289130138...|[0.76742644565069...|       0.0|\n",
      "|(24,[0,1,2,3,4,8,...|    0|[16.5284444417352...|[0.82642222208676...|       0.0|\n",
      "|(24,[0,1,2,3,5,6,...|    0|[18.0005759997679...|[0.90002879998839...|       0.0|\n",
      "|(24,[0,1,2,3,5,6,...|    0|[12.7577462101532...|[0.63788731050766...|       0.0|\n",
      "|(24,[0,1,2,3,5,6,...|    0|[17.3802234084668...|[0.86901117042334...|       0.0|\n",
      "|(24,[0,1,2,3,5,6,...|    0|[17.2590921858649...|[0.86295460929324...|       0.0|\n",
      "+--------------------+-----+--------------------+--------------------+----------+\n",
      "only showing top 20 rows\n",
      "\n"
     ]
    }
   ],
   "source": [
    "previsoes_rfc_teste.show()"
   ]
  },
  {
   "cell_type": "code",
   "execution_count": 67,
   "metadata": {},
   "outputs": [
    {
     "name": "stdout",
     "output_type": "stream",
     "text": [
      "Decision Tree Classifier\n",
      "========================================\n",
      "Dados de Treino\n",
      "========================================\n",
      "Matriz de Confusão\n",
      "----------------------------------------\n",
      "                     Previsto\n",
      "                Churn       Não-Churn\n",
      "     Churn        1256         307\n",
      "Real\n",
      "     Não-Churn    400         1179\n",
      "----------------------------------------\n",
      "Métricas\n",
      "----------------------------------------\n",
      "Acurácia: 0.785595\n",
      "Precisão: 0.769431\n",
      "Recall: 0.816948\n",
      "F1: 0.792478\n",
      "\n",
      "========================================\n",
      "Dados de Teste\n",
      "========================================\n",
      "Matriz de Confusão\n",
      "----------------------------------------\n",
      "                     Previsto\n",
      "                Churn       Não-Churn\n",
      "     Churn        1256         307\n",
      "Real\n",
      "     Não-Churn    400         1179\n",
      "----------------------------------------\n",
      "Métricas\n",
      "----------------------------------------\n",
      "Acurácia: 0.770210\n",
      "Precisão: 0.751345\n",
      "Recall: 0.804223\n",
      "F1: 0.776885\n"
     ]
    }
   ],
   "source": [
    "print('Decision Tree Classifier')\n",
    "print(\"=\"*40)\n",
    "print(\"Dados de Treino\")\n",
    "print(\"=\"*40)\n",
    "print(\"Matriz de Confusão\")\n",
    "print(\"-\"*40)\n",
    "calcula_mostra_matriz_confusao(previsoes_rfc_treino, normalize=False)\n",
    "print(\"-\"*40)\n",
    "print(\"Métricas\")\n",
    "print(\"-\"*40)\n",
    "print(\"Acurácia: %f\" % evaluator.evaluate(previsoes_rfc_treino, {evaluator.metricName: \"accuracy\"}))\n",
    "print(\"Precisão: %f\" % evaluator.evaluate(previsoes_rfc_treino, {evaluator.metricName: \"precisionByLabel\", evaluator.metricLabel: 1}))\n",
    "print(\"Recall: %f\" % evaluator.evaluate(previsoes_rfc_treino, {evaluator.metricName: \"recallByLabel\", evaluator.metricLabel: 1}))\n",
    "print(\"F1: %f\" % evaluator.evaluate(previsoes_rfc_treino, {evaluator.metricName: \"fMeasureByLabel\", evaluator.metricLabel: 1}))\n",
    "print(\"\")\n",
    "print(\"=\"*40)\n",
    "print(\"Dados de Teste\")\n",
    "print(\"=\"*40)\n",
    "print(\"Matriz de Confusão\")\n",
    "print(\"-\"*40)\n",
    "calcula_mostra_matriz_confusao(previsoes_rfc_teste, normalize=False)\n",
    "print(\"-\"*40)\n",
    "print(\"Métricas\")\n",
    "print(\"-\"*40)\n",
    "print(\"Acurácia: %f\" % evaluator.evaluate(previsoes_rfc_teste, {evaluator.metricName: \"accuracy\"}))\n",
    "print(\"Precisão: %f\" % evaluator.evaluate(previsoes_rfc_teste, {evaluator.metricName: \"precisionByLabel\", evaluator.metricLabel: 1}))\n",
    "print(\"Recall: %f\" % evaluator.evaluate(previsoes_rfc_teste, {evaluator.metricName: \"recallByLabel\", evaluator.metricLabel: 1}))\n",
    "print(\"F1: %f\" % evaluator.evaluate(previsoes_rfc_teste, {evaluator.metricName: \"fMeasureByLabel\", evaluator.metricLabel: 1}))"
   ]
  },
  {
   "cell_type": "markdown",
   "metadata": {},
   "source": [
    "# Árvore de decisão com Cross Validation"
   ]
  },
  {
   "cell_type": "code",
   "execution_count": 68,
   "metadata": {},
   "outputs": [],
   "source": [
    "from pyspark.ml.tuning import CrossValidator, ParamGridBuilder"
   ]
  },
  {
   "cell_type": "code",
   "execution_count": 69,
   "metadata": {},
   "outputs": [],
   "source": [
    "dtc = DecisionTreeClassifier(seed=SEED)"
   ]
  },
  {
   "cell_type": "code",
   "execution_count": 71,
   "metadata": {},
   "outputs": [],
   "source": [
    "grid = ParamGridBuilder()\\\n",
    "        .addGrid(dtc.maxDepth, [2, 5, 10])\\\n",
    "        .addGrid(dtc.maxBins, [10, 32, 45])\\\n",
    "        .build()"
   ]
  },
  {
   "cell_type": "code",
   "execution_count": 72,
   "metadata": {},
   "outputs": [],
   "source": [
    "evaluator = MulticlassClassificationEvaluator()"
   ]
  },
  {
   "cell_type": "code",
   "execution_count": 73,
   "metadata": {},
   "outputs": [],
   "source": [
    "dtc_cv = CrossValidator(\n",
    "    estimator=dtc,\n",
    "    estimatorParamMaps=grid,\n",
    "    evaluator=evaluator,\n",
    "    numFolds=3,\n",
    "    seed=SEED\n",
    ")"
   ]
  },
  {
   "cell_type": "code",
   "execution_count": 74,
   "metadata": {},
   "outputs": [],
   "source": [
    "modelo_dtc_cv = dtc_cv.fit(treino)"
   ]
  },
  {
   "cell_type": "code",
   "execution_count": 75,
   "metadata": {},
   "outputs": [],
   "source": [
    "previsoes_dtc_cv_teste = modelo_dtc_cv.transform(teste)"
   ]
  },
  {
   "cell_type": "code",
   "execution_count": 76,
   "metadata": {},
   "outputs": [
    {
     "name": "stdout",
     "output_type": "stream",
     "text": [
      "Decision Tree Classifier\n",
      "========================================\n",
      "Dados de Treino\n",
      "========================================\n",
      "Matriz de Confusão\n",
      "----------------------------------------\n",
      "                     Previsto\n",
      "                Churn       Não-Churn\n",
      "     Churn        1256         307\n",
      "Real\n",
      "     Não-Churn    400         1179\n",
      "----------------------------------------\n",
      "Métricas\n",
      "----------------------------------------\n",
      "Acurácia: 0.790261\n",
      "Precisão: 0.758286\n",
      "Recall: 0.849008\n",
      "F1: 0.801087\n",
      "\n",
      "========================================\n",
      "Dados de Teste\n",
      "========================================\n",
      "Matriz de Confusão\n",
      "----------------------------------------\n",
      "                     Previsto\n",
      "                Churn       Não-Churn\n",
      "     Churn        1256         307\n",
      "Real\n",
      "     Não-Churn    400         1179\n",
      "----------------------------------------\n",
      "Métricas\n",
      "----------------------------------------\n",
      "Acurácia: 0.770210\n",
      "Precisão: 0.751345\n",
      "Recall: 0.804223\n",
      "F1: 0.776885\n"
     ]
    }
   ],
   "source": [
    "print('Decision Tree Classifier')\n",
    "print(\"=\"*40)\n",
    "print(\"Dados de Treino\")\n",
    "print(\"=\"*40)\n",
    "print(\"Matriz de Confusão\")\n",
    "print(\"-\"*40)\n",
    "calcula_mostra_matriz_confusao(previsoes_dtc_cv_teste, normalize=False)\n",
    "print(\"-\"*40)\n",
    "print(\"Métricas\")\n",
    "print(\"-\"*40)\n",
    "print(\"Acurácia: %f\" % evaluator.evaluate(previsoes_dtc_cv_teste, {evaluator.metricName: \"accuracy\"}))\n",
    "print(\"Precisão: %f\" % evaluator.evaluate(previsoes_dtc_cv_teste, {evaluator.metricName: \"precisionByLabel\", evaluator.metricLabel: 1}))\n",
    "print(\"Recall: %f\" % evaluator.evaluate(previsoes_dtc_cv_teste, {evaluator.metricName: \"recallByLabel\", evaluator.metricLabel: 1}))\n",
    "print(\"F1: %f\" % evaluator.evaluate(previsoes_dtc_cv_teste, {evaluator.metricName: \"fMeasureByLabel\", evaluator.metricLabel: 1}))\n",
    "print(\"\")\n",
    "print(\"=\"*40)\n",
    "print(\"Dados de Teste\")\n",
    "print(\"=\"*40)\n",
    "print(\"Matriz de Confusão\")\n",
    "print(\"-\"*40)\n",
    "calcula_mostra_matriz_confusao(previsoes_rfc_teste, normalize=False)\n",
    "print(\"-\"*40)\n",
    "print(\"Métricas\")\n",
    "print(\"-\"*40)\n",
    "print(\"Acurácia: %f\" % evaluator.evaluate(previsoes_rfc_teste, {evaluator.metricName: \"accuracy\"}))\n",
    "print(\"Precisão: %f\" % evaluator.evaluate(previsoes_rfc_teste, {evaluator.metricName: \"precisionByLabel\", evaluator.metricLabel: 1}))\n",
    "print(\"Recall: %f\" % evaluator.evaluate(previsoes_rfc_teste, {evaluator.metricName: \"recallByLabel\", evaluator.metricLabel: 1}))\n",
    "print(\"F1: %f\" % evaluator.evaluate(previsoes_rfc_teste, {evaluator.metricName: \"fMeasureByLabel\", evaluator.metricLabel: 1}))"
   ]
  },
  {
   "cell_type": "code",
   "execution_count": null,
   "metadata": {},
   "outputs": [],
   "source": [
    "rfc = RandomForestClassifier(seed=SEED)"
   ]
  },
  {
   "cell_type": "code",
   "execution_count": null,
   "metadata": {},
   "outputs": [],
   "source": [
    "grid = ParamGridBuilder()\\\n",
    "        .addGrid(dtc.maxDepth, [2, 5, 10])\\\n",
    "        .addGrid(dtc.maxBins, [10, 32, 45])\\\n",
    "        .addGrid(dtc.numTrees, [10, 20, 50])\\\n",
    "        .build()"
   ]
  },
  {
   "cell_type": "code",
   "execution_count": null,
   "metadata": {},
   "outputs": [],
   "source": [
    "evaluator = MulticlassClassificationEvaluator()"
   ]
  },
  {
   "cell_type": "code",
   "execution_count": null,
   "metadata": {},
   "outputs": [],
   "source": [
    "rfc_cv = CrossValidator(\n",
    "    estimator=rfc,\n",
    "    estimatorParamMaps=grid,\n",
    "    evaluator=evaluator,\n",
    "    numFolds=3,\n",
    "    seed=SEED\n",
    ")"
   ]
  },
  {
   "cell_type": "code",
   "execution_count": null,
   "metadata": {},
   "outputs": [],
   "source": [
    "modelo_rfc_cv = rfc_cv.fit(treino)"
   ]
  },
  {
   "cell_type": "code",
   "execution_count": null,
   "metadata": {},
   "outputs": [],
   "source": [
    "previsoes_rfc_cv_teste = modelo_rfc_cv.transform(teste)"
   ]
  },
  {
   "cell_type": "code",
   "execution_count": null,
   "metadata": {},
   "outputs": [],
   "source": [
    "print('Random Forest Classifier')\n",
    "print(\"=\"*40)\n",
    "print(\"Dados de Teste\")\n",
    "print(\"=\"*40)\n",
    "print(\"Matriz de Confusão\")\n",
    "print(\"-\"*40)\n",
    "calcula_mostra_matriz_confusao(previsoes_rfc_cv_teste, normalize=False)\n",
    "print(\"-\"*40)\n",
    "print(\"Métricas\")\n",
    "print(\"-\"*40)\n",
    "print(\"Acurácia: %f\" % evaluator.evaluate(previsoes_rfc_cv_teste, {evaluator.metricName: \"accuracy\"}))\n",
    "print(\"Precisão: %f\" % evaluator.evaluate(previsoes_rfc_cv_teste, {evaluator.metricName: \"precisionByLabel\", evaluator.metricLabel: 1}))\n",
    "print(\"Recall: %f\" % evaluator.evaluate(previsoes_rfc_cv_teste, {evaluator.metricName: \"recallByLabel\", evaluator.metricLabel: 1}))\n",
    "print(\"F1: %f\" % evaluator.evaluate(previsoes_rfc_cv_teste, {evaluator.metricName: \"fMeasureByLabel\", evaluator.metricLabel: 1}))"
   ]
  },
  {
   "cell_type": "code",
   "execution_count": null,
   "metadata": {},
   "outputs": [],
   "source": [
    "melhor_modelo_rfc_cv = modelo_rfc_cv.bestModel"
   ]
  },
  {
   "cell_type": "code",
   "execution_count": null,
   "metadata": {},
   "outputs": [],
   "source": [
    "print(melhor_modelo_rfc_cv.getMaxDepth())\n",
    "print(melhor_modelo_rfc_cv.getMaxBins())\n",
    "print(melhor_modelo_rfc_cv.getNumTrees)"
   ]
  },
  {
   "cell_type": "code",
   "execution_count": null,
   "metadata": {},
   "outputs": [],
   "source": [
    "rfc_tunning = RandomForestClassifier(maxDepth=10, maxBins=45, numTrees=10, seed=SEED)"
   ]
  },
  {
   "cell_type": "markdown",
   "metadata": {},
   "source": [
    "# Treinando o modelo final"
   ]
  },
  {
   "cell_type": "code",
   "execution_count": null,
   "metadata": {},
   "outputs": [],
   "source": [
    "modelo_rfc_tunning = rfc_tunning.fit(dataset_prep)"
   ]
  },
  {
   "cell_type": "code",
   "execution_count": null,
   "metadata": {},
   "outputs": [],
   "source": [
    "novo_cliente = [{\n",
    "    'Mais65anos': 0,\n",
    "    'MesesDeContrato': 1,\n",
    "    'MesesCobrados': 45.30540797610398,\n",
    "    'Conjuge': 0,\n",
    "    'Dependentes': 0,\n",
    "    'TelefoneFixo': 0,\n",
    "    'MaisDeUmaLinhaTelefonica': 0,\n",
    "    'SegurancaOnline': 0,\n",
    "    'BackupOnline': 0,\n",
    "    'SeguroDispositivo': 0,\n",
    "    'SuporteTecnico': 0,\n",
    "    'TVaCabo': 1,\n",
    "    'StreamingFilmes': 1,\n",
    "    'ContaCorreio': 1,\n",
    "    'Internet_DSL': 1,\n",
    "    'Internet_FibraOptica': 0,\n",
    "    'Internet_Nao': 0,\n",
    "    'TipoContrato_Mensalmente': 1,\n",
    "    'TipoContrato_UmAno': 0,\n",
    "    'TipoContrato_DoisAnos': 0,\n",
    "    'MetodoPagamento_DebitoEmConta': 0,\n",
    "    'MetodoPagamento_CartaoCredito': 0,\n",
    "    'MetodoPagamento_BoletoEletronico': 1,\n",
    "    'MetodoPagamento_Boleto': 0\n",
    "}]"
   ]
  },
  {
   "cell_type": "code",
   "execution_count": null,
   "metadata": {},
   "outputs": [],
   "source": [
    "novo_client = spark.createDataFrame(novo_cliente)"
   ]
  },
  {
   "cell_type": "code",
   "execution_count": null,
   "metadata": {},
   "outputs": [],
   "source": [
    "assembler = VectorAssembler(inputCols= X, outputCol= \"features\")"
   ]
  },
  {
   "cell_type": "code",
   "execution_count": null,
   "metadata": {},
   "outputs": [],
   "source": [
    "novo_cliente_prep = assembler.transform(novo_cliente).select(\"features\")"
   ]
  },
  {
   "cell_type": "code",
   "execution_count": null,
   "metadata": {},
   "outputs": [],
   "source": [
    "novo_cliente_prep.show()"
   ]
  },
  {
   "cell_type": "code",
   "execution_count": null,
   "metadata": {},
   "outputs": [],
   "source": [
    "modelo_rfc_tunning.transform(novo_cliente_prep).show()"
   ]
  }
 ],
 "metadata": {
  "kernelspec": {
   "display_name": "Python 3.10.4",
   "language": "python",
   "name": "python3"
  },
  "language_info": {
   "codemirror_mode": {
    "name": "ipython",
    "version": 3
   },
   "file_extension": ".py",
   "mimetype": "text/x-python",
   "name": "python",
   "nbconvert_exporter": "python",
   "pygments_lexer": "ipython3",
   "version": "3.10.4"
  },
  "orig_nbformat": 4,
  "vscode": {
   "interpreter": {
    "hash": "654d10ba3aedbb3af0d111297d0481efb369b4a3a5f00d667d959888486bb7ff"
   }
  }
 },
 "nbformat": 4,
 "nbformat_minor": 2
}
